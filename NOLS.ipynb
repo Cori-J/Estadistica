{
  "nbformat": 4,
  "nbformat_minor": 0,
  "metadata": {
    "colab": {
      "name": "NOLS.ipynb",
      "provenance": [],
      "collapsed_sections": [],
      "authorship_tag": "ABX9TyPsCOsPtKKLCdwf6K6jzNHY",
      "include_colab_link": true
    },
    "kernelspec": {
      "name": "python3",
      "display_name": "Python 3"
    }
  },
  "cells": [
    {
      "cell_type": "markdown",
      "metadata": {
        "id": "view-in-github",
        "colab_type": "text"
      },
      "source": [
        "<a href=\"https://colab.research.google.com/github/Cori-J/Estadistica/blob/main/NOLS.ipynb\" target=\"_parent\"><img src=\"https://colab.research.google.com/assets/colab-badge.svg\" alt=\"Open In Colab\"/></a>"
      ]
    },
    {
      "cell_type": "markdown",
      "metadata": {
        "id": "Cl_WmOgCrHB3"
      },
      "source": [
        "<center>\r\n",
        "    <b>Por: Jhon Cori</b><br>\r\n",
        "    <b>b.jhon.cori@gmail.com</b>\r\n",
        "<br><br>\r\n",
        "<b>Tema:</b>\r\n",
        "<h1>Regresiòn no lineal con Python</h1>\r\n",
        "</center>\r\n",
        "<i>Creado: Marzo-2021 \r\n",
        "    <br>\r\n",
        "    Actualizado: Marzo-2021</i>\r\n",
        "    <br>\r\n",
        "    Estado: Preliminar</i>\r\n",
        "    \r\n",
        "\r\n"
      ]
    },
    {
      "cell_type": "markdown",
      "metadata": {
        "id": "WN2SlWLIrjFN"
      },
      "source": [
        "La forma general de la regresion no lineal es:\r\n",
        "\r\n",
        "\\begin{equation}\r\n",
        "y_{i} = h(x_{i}, \\beta) + \\epsilon_{i}\r\n",
        "\\end{equation}\r\n",
        "\r\n",
        "Algunos modelos son intrínsecamente lineales como por ejemplo: $y = e^{x_{i}\\beta_{i}+\\epsilon}$, el cual es un modelo lineal despues de una transformaciòn, en este caso aplicando logaritmos neperianos.\r\n",
        "\r\n",
        "## Supuestos del modelo de regresion no lineal\r\n",
        "\r\n",
        " 1. **Forma funcional**\r\n",
        " \r\n",
        " La funcion de la media condicional para $y_i$ dado $x_i$ es: \r\n",
        " $E[y_i|x_i] = h(x_{i}, \\beta), i = 1,...,n$\r\n",
        "\r\n",
        " 2. **Identificabilidad de los parametros del modelo**\r\n",
        "\r\n",
        " El vector de parametros en el modelo es identificado (estimado) si no hay un parámetro distinto de cero, $\\beta^{0} \\neq \\beta$ tal que $h(x_{i}, \\beta^{0}) = h(x_{i}, \\beta) $ para todo $x_i$. El supuesto de rango completo es necesario, pero no suficiente.\r\n",
        "\r\n",
        "3. **Media condicional cero de las perturbaciones:**\r\n",
        "\\begin{equation}\r\n",
        "y_{i} = h(x_{i}, \\beta) + \\epsilon_{i}\r\n",
        "\\end{equation}\r\n",
        "donde $E[\\epsilon_{i}|h(x_{i}, \\beta)]= 0$. Esto establece que la perturbación en la observación $i$ no está correlacionada con la función de la media condicional para todas las observaciones de la muestra. Se supone que $x$ es exogena en esta configuracion, por lo tanto agregamos el supuesto de que $E[\\epsilon|x]=0$\r\n",
        "\r\n",
        "4. **Homocedasticidad y no autocorrelacion**\r\n",
        "- **Homocedasticidad**\r\n",
        "\\begin{equation}\r\n",
        "E[\\epsilon^{2}|h(x_{j}, \\beta), j = 1,..., n] = \\sigma^{2}, constante finita.\r\n",
        "\\end{equation}\r\n",
        "- **No autocorrelacion**\r\n",
        "\\begin{equation}\r\n",
        "E[\\epsilon_{i}\\epsilon_{j}|h(x_{j}, h(x_{j}), j = 1,..., n] = 0\r\n",
        "\\end{equation}\r\n",
        "para todo $i \\neq j$\r\n",
        "\r\n",
        "5. **Proceso generador de datos**\r\n",
        "  \r\n",
        "  El supuesto crucial es que el proceso que genera $x_{i}$ es estrictamente exogena a la generacion de $\\epsilon_{i}$. Se asume que los datos son \"bien comportados\".\r\n",
        "\r\n",
        "6. **Distribucion de probabilidad subyacente**\r\n",
        "\r\n",
        "  Hay una distribucion de probabilidad generando $\\epsilon_{i}$. Para este punto solo se asume que este proceso produce una muestra no autocorrelacionada, identicamente (marginalmente) distribuida de variables aleatorias $\\epsilon_{i}$ con media $0$ y varianza $\\sigma^{2}$ condicional en  $h(x_{i}, \\beta)$. Por tanto, en este punto, nuestro enunciado del modelo es semiparamétrico.\r\n",
        "\r\n",
        "## Estimador de minimos cuadrados no lineales ##\r\n",
        "\r\n",
        "Esta minimiza la suma de cuadrados:\r\n",
        "\r\n",
        "\\begin{equation}\r\n",
        "S(\\beta) =  \\sum_{i=1}^{N}[y_{i} - h(x_{i}, \\beta)]^{2} = [Y-h(X, \\beta)]^{'}[Y-h(X, \\beta)]\r\n",
        "\\end{equation}\r\n",
        "\r\n",
        "derivando la funcion objetivo respecto a $\\beta_{i}$ tenemos:\r\n",
        "\r\n",
        "\\begin{equation}\r\n",
        "\\left.\\begin{matrix}\r\n",
        "\\frac{\\partial S(\\beta)}{\\partial \\beta} \r\n",
        "\\end{matrix}\\right|_{\\hat{\\beta}}= -2Z(\\hat{\\beta})^{'}[Y-h(X, \\beta)] =0\r\n",
        "\\end{equation}\r\n",
        "\r\n",
        "donde $Z$ es una matriz Jacobiana:\r\n",
        "\r\n",
        "\\begin{equation}\r\n",
        "Z(\\beta) = \\frac{\\partial h}{\\partial\\beta^{'}} = J_{f(\\beta_i)}\r\n",
        "\\end{equation}\r\n",
        "\r\n",
        "Dado que la funcion objetivo no puede resolverce analiticamente se debe proceder con metodos numericos para llegar a una solucion considerable, uno de los algoritmos utilizados para estimar los parametros es el Metodo de Gauss - Newton que basicamente consisten en:\r\n",
        "\r\n",
        "* Considerando la aproximacion primer orden de Taylor de $h(x_{i}, \\beta)$ (la parte no lineal) acerca de $\\beta_{0}$\r\n",
        "\r\n",
        "\\begin{equation}\r\n",
        "h(x_{i}, \\beta) \\cong  h(x_{i}, \\beta_{0}) + \\begin{matrix} \\frac {\\partial m_{i}} {\\partial \\beta^{'}} \\end{matrix} |_{\\beta_{0}} (\\beta - \\beta_{0})\r\n",
        "\\end{equation}\r\n",
        "\r\n",
        "\r\n",
        "\r\n",
        "  $\\beta_{0}$ es un parametro conocido, este parametro es establecido por el analista para que el algoritmo comience, cabe aclarar que la calidad de los estimadores, es decir que converjan o diverjan a puntos minimos locales o globales (si es que hubiera), depende en gran medida de estos parametros iniciales. \r\n",
        "\r\n",
        "* Sustituimos en la funcion objetivo\r\n",
        "\r\n",
        "\\begin{equation}\r\n",
        "\r\n",
        "S(\\beta) \\cong \\sum_{i=1}^{N}[y_{i} - h(x_{i}, \\beta_{0}) - \\begin{matrix} \\frac {\\partial m_{i}} {\\partial \\beta^{'}} \\end{matrix} |_{\\beta_{0}} (\\beta - \\beta_{0})]^{2}\r\n",
        "\r\n",
        "\\end{equation}\r\n",
        "\r\n",
        "* Sacando las condiciones de primer orden y despejando $\\beta$ tenemos:\r\n",
        "\r\n",
        "\\begin{equation}\r\n",
        "\\beta_{i} = \\beta_{0} + [Z(\\beta_{0})^{'}Z(\\beta_{0})]^{-1}[Z(\\beta_{0})^{'}(Y-m(X,\\beta_{0}))] \r\n",
        "\\end{equation}\r\n",
        "\r\n",
        "repetimos este paso hasta que $\\beta_{j} \\cong \\beta_{j-1} = \\beta_{NLLS}$ se puede obtener la matriz de covarianza de la forma $\\sigma^{2} = N^{-1}S(\\hat{\\beta})$\r\n",
        "\r\n",
        "Podemos obtener la matriz de varianza y covarianza como sigue:\r\n",
        "\r\n",
        "\\begin{equation}\r\n",
        "  V(\\hat{\\beta}_{NLLLS}|X) = E[(\\hat{\\beta}_{NLLS} - \\beta)(\\hat{\\beta}_{NLLS} - \\beta)^{'}] = \\sigma^2(\\hat{Z}^{'}\\hat{Z})^{-1}\r\n",
        "\\end{equation}\r\n",
        "\r\n",
        "\r\n",
        "\r\n"
      ]
    },
    {
      "cell_type": "markdown",
      "metadata": {
        "id": "dzNLVknltPxu"
      },
      "source": [
        "## Ejemplo 1\r\n",
        "\r\n",
        "A continuacion se realiza un ejercicio practico utilizando el modulo [Scipy](https://docs.scipy.org/doc/#), mas especificamente [scipy.optimize.least_squares](https://docs.scipy.org/doc/scipy/reference/generated/scipy.optimize.least_squares.html) para estimar los parametros de la siguiente funcion de consumo explicada por los ingresos, se utiliza [Scipy](https://docs.scipy.org/doc/#) por comodidad, el lector puede puede programar su propio algoritmo sin embargo puede que el algoritmo que escriba no este optimizado como los del modulo ya anunciado:\r\n",
        "\r\n",
        "\\begin{equation}\r\n",
        "C = \\alpha + \\beta Y^{\\gamma} + \\epsilon\r\n",
        "\\end{equation}\r\n",
        "\r\n",
        "Notese que si $\\gamma = 1$ el modelo podria ser estimado analiticamente. \r\n",
        "\r\n",
        "Primero realizaremos una estimacion lineal para poder obtener los $\\beta$ y utilizar estos como inicializadores para la estimacion no lineal, en total realizaremos 3 modelos: 1) modelo lineal, 2) modelo no lineal y 3) modelo no lineal proporcionando la matriz jacobiana."
      ]
    },
    {
      "cell_type": "code",
      "metadata": {
        "id": "keuVvt2bV9NE"
      },
      "source": [
        "### Importando los modulos\r\n",
        "\r\n",
        "import pandas as pd # Modulo para la manipulacion de datos\r\n",
        "import matplotlib.pyplot as plt # Modulo para elaborar graficos\r\n",
        "import numpy as np # Modulo especialiazado para el calculo numerico y de matrices. \r\n",
        "from scipy.optimize import least_squares # Modulo especializado para metodos matematicos y estadisticos.\r\n",
        "from statsmodels.api import OLS # Para ajustar un modelo lineal con el modulo Statsmodels\r\n",
        "from statsmodels.api import add_constant "
      ],
      "execution_count": null,
      "outputs": []
    },
    {
      "cell_type": "code",
      "metadata": {
        "id": "Rjo5ibFju170"
      },
      "source": [
        "# Importacion de datos\r\n",
        "\r\n",
        "data = pd.read_csv(filepath_or_buffer= '/content/TableF5-2.csv', sep = ',') # Importacion de datos\r\n",
        "y = data.REALCONS # asigamos la variable consumo a y\r\n",
        "X = data.REALGDP # asignamos la variale ingreso a X"
      ],
      "execution_count": null,
      "outputs": []
    },
    {
      "cell_type": "code",
      "metadata": {
        "id": "K8UTUZDKvK2y",
        "colab": {
          "base_uri": "https://localhost:8080/",
          "height": 567
        },
        "outputId": "c20e9347-e6d0-4d69-c8c3-d81d168fd6e1"
      },
      "source": [
        "# Optimizacion de modelos no lineales\r\n",
        "\r\n",
        "np.random.seed(24) # semilla\r\n",
        "\r\n",
        "## Ajustamos un modelo lineal\r\n",
        "\r\n",
        "mod_lin = OLS(y, add_constant(X)).fit()\r\n",
        "x0 = list(mod_lin.params[:])\r\n",
        "x0.append(np.random.random())\r\n",
        "# x0 = [ '%.1f' % elem for elem in x0 ] # parametros de inicio\r\n",
        "\r\n",
        "## Optimizacion sin indicar el Jacobiano\r\n",
        "\r\n",
        "def mod (b, x): # funcin del modelo\r\n",
        "  return b[0] + b[1] * x ** b[2]\r\n",
        "\r\n",
        "def coste (b, x, y): # funcion objetivo o de coste\r\n",
        "  return mod(b, x) - y\r\n",
        "\r\n",
        "res1 = least_squares(coste, x0, args=(X, y),verbose = 1) # estimamos los parametros \r\n",
        "\r\n",
        "## Optimizacion indicando el Jacobiano\r\n",
        "\r\n",
        "def jac(b, x, y): # Matrix Jacobina\r\n",
        "    J = np.empty((x.size, b.size))\r\n",
        "    J[:, 0] = 1\r\n",
        "    J[:, 1] = x ** b[2]\r\n",
        "    J[:, 2] = x ** b[2] * np.log(b[2])\r\n",
        "    return J\r\n",
        "\r\n",
        "res2 = least_squares(coste, x0, jac=jac, args=(X, y), verbose=1) # estimamos los parametros \r\n",
        "\r\n",
        "# Graficando los modelos\r\n",
        "\r\n",
        "fig, ax = plt.subplots(figsize = (15, 8))\r\n",
        "plt.plot(X, y, 'o', label = 'Valores verdaderos', alpha = 0.2)\r\n",
        "plt.plot(X, mod (res1.x, X), 'k', label = 'Modelo no lineal')\r\n",
        "plt.plot(X, mod (res2.x, X), label = f'Modelo no lineal (jacobiano)')\r\n",
        "plt.plot(X, mod_lin.predict(add_constant(X)), label = 'Modelo lineal', alpha = 0.3)\r\n",
        "plt.xlabel(\"x\")\r\n",
        "plt.ylabel(\"y\")\r\n",
        "plt.legend()\r\n",
        "plt.show()\r\n"
      ],
      "execution_count": null,
      "outputs": [
        {
          "output_type": "stream",
          "text": [
            "`ftol` termination condition is satisfied.\n",
            "Function evaluations 6, initial cost 1.0615e+08, final cost 1.4873e+05, first-order optimality 2.05e-01.\n",
            "`xtol` termination condition is satisfied.\n",
            "Function evaluations 20, initial cost 1.0615e+08, final cost 8.7019e+05, first-order optimality 3.80e+07.\n"
          ],
          "name": "stdout"
        },
        {
          "output_type": "display_data",
          "data": {
            "image/png": "[encoded data removed]",
            "text/plain": [
              "<Figure size 1080x576 with 1 Axes>"
            ]
          },
          "metadata": {
            "tags": [],
            "needs_background": "light"
          }
        }
      ]
    },
    {
      "cell_type": "markdown",
      "metadata": {
        "id": "MS6sykMEC91O"
      },
      "source": [
        "Se puede observar que el metodo que se ajusta peor es el algoritmo que tiene el jacobiano, esto sucede por que la funcion es mas lineal que no lineal, a continuacion calculamos la matriz de varianza y covarianzas para ```mod1``` (modelo no lineal sin Jacobiano)."
      ]
    },
    {
      "cell_type": "code",
      "metadata": {
        "colab": {
          "base_uri": "https://localhost:8080/"
        },
        "id": "hifAPjMycim_",
        "outputId": "69a12bbf-73bb-48f0-e8a9-5e5b69d8c2fa"
      },
      "source": [
        "def var_cov (jac, coste, y):\r\n",
        "  '''\r\n",
        "  Devuelve la matriz de varianza y covarianza\r\n",
        "\r\n",
        "  jac = Matriz jacobiana\r\n",
        "  coste = Sumatoria de residuos cuadrados\r\n",
        "  y = Datos de la variable dependiente\r\n",
        "  \r\n",
        "  '''\r\n",
        "  xx = np.linalg.inv(jac.T @ jac)\r\n",
        "  src = coste / y.size\r\n",
        "  cov =  xx * src\r\n",
        "  return cov\r\n",
        "\r\n",
        "\r\n",
        "var_cov (res1.jac, res1.cost, y) # corremos la funcion var_cov"
      ],
      "execution_count": null,
      "outputs": [
        {
          "output_type": "execute_result",
          "data": {
            "text/plain": [
              "array([[ 3.23129003e+02, -5.80658388e-01,  1.07411350e-01],\n",
              "       [-5.80658388e-01,  1.10034737e-03, -2.04488247e-04],\n",
              "       [ 1.07411350e-01, -2.04488247e-04,  3.80209171e-05]])"
            ]
          },
          "metadata": {
            "tags": []
          },
          "execution_count": 7
        }
      ]
    },
    {
      "cell_type": "markdown",
      "metadata": {
        "id": "V24FZ8OnNJIR"
      },
      "source": [
        "## Consideraciones\r\n",
        "\r\n",
        "* La convergencia del algoritmo depende de los valores iniciales de los parametros, en el ejemplo anterior se inicializo el algoritmo con los parametros del modelo lineal y con un valor aleatorio para $\\gamma$.\r\n",
        "* Se necesita un criterio de convergencia el cual no debe ser mayor que el machine epsilon, el machine epsilon es la cantidad de decimales de precision de la computadora, con el modulo [Numpy](https://numpy.org/) usted puede obtener el machine epsilon corriendo el siguiente codigo ```print(np.finfo(float).eps)```.\r\n",
        "\r\n",
        "Para el lector ansioso de màs teoria se aconseja leer la primera referencia, para el lector que quiera empezar econometria con Python se recomienda la tercera referencia, tambien se recomienda ampliamente el canal de [youtube](https://www.youtube.com/channel/UChWg-WNYrb-N9bJuDeKbdiw) del Ph.D A. Chumacero.\r\n",
        "\r\n",
        "Se deja de tarea al lector realizar la intepretacion del modelo lineal como del modelo no lineal, efectos marginales."
      ]
    },
    {
      "cell_type": "markdown",
      "metadata": {
        "id": "IDqsFHazg_Ex"
      },
      "source": [
        "## Referencias:\r\n",
        "* William H. Greene, 2018, Econometric Analysis, edit. Pearson.\r\n",
        "* [Rómulo A. Chumacero, 2012, Nonlinear Least Squares, Univ. de Chile.](http://rchumace.econ.uchile.cl/) \r\n",
        "* F. A. Triana Alarcòn, 2019, Guìa pràctica de econometrìa bàsica con Python, Univ. Nal. de Colombia.\r\n",
        "* D. N. Gujarati y D. C. Porter, 2019, Econometrìa, edit. McGrawHill. "
      ]
    }
  ]
}